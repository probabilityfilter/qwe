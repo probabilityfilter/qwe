{
 "cells": [
  {
   "cell_type": "code",
   "execution_count": null,
   "metadata": {
    "collapsed": true
   },
   "outputs": [],
   "source": [
    "def answer(l):\n",
    "    # your code here\n",
    "    return l"
   ]
  },
  {
   "cell_type": "code",
   "execution_count": 43,
   "metadata": {
    "collapsed": false
   },
   "outputs": [
    {
     "name": "stdout",
     "output_type": "stream",
     "text": [
      "5\n",
      "4\n",
      "3\n",
      "2\n",
      "1\n",
      "0\n"
     ]
    }
   ],
   "source": [
    "for a in range(5,-1,-1):\n",
    "    print(a)"
   ]
  },
  {
   "cell_type": "code",
   "execution_count": 71,
   "metadata": {
    "collapsed": false
   },
   "outputs": [
    {
     "name": "stdout",
     "output_type": "stream",
     "text": [
      "2\n",
      "______\n",
      "0\n"
     ]
    }
   ],
   "source": [
    "#l=[1, 2, 3, 4, 5, 6]\n",
    "#l=[2,3,4,5,6,7,8,9,10]\n",
    "l=[1,2]\n",
    "print(len(l))\n",
    "print('______')\n",
    "cnt=0\n",
    "for i in range(len(l)-1,-1,-1):\n",
    "    #print(i)\n",
    "    #print('1#',l[i])\n",
    "    #print('start')\n",
    "    for j in range(i-1,-1,-1):\n",
    "        #print(j,l[j])\n",
    "        if l[i]%l[j]==0:\n",
    "            #print(l[j])\n",
    "            for k in range(j-1,-1,-1):\n",
    "                if l[j]%l[k]==0:\n",
    "                    print('1#',l[i],'2#',l[j],'3#',l[k])\n",
    "                    cnt+=1\n",
    "                    print('ok',cnt)\n",
    "print(cnt)"
   ]
  },
  {
   "cell_type": "code",
   "execution_count": 59,
   "metadata": {
    "collapsed": true
   },
   "outputs": [],
   "source": [
    "def answer(l):\n",
    "    # your code here\n",
    "    cnt=0\n",
    "    for i in range(len(l)-1,-1,-1):\n",
    "        #print(i)\n",
    "        #print('1#',l[i])\n",
    "        #print('start')\n",
    "        for j in range(i-1,-1,-1):\n",
    "            #print(j,l[j])\n",
    "            if l[i]%l[j]==0:\n",
    "                #print(l[j])\n",
    "                for k in range(j-1,-1,-1):\n",
    "                    if l[j]%l[k]==0:\n",
    "                        #print('1#',l[i],'2#',l[j],'3#',l[k])\n",
    "                        cnt+=1\n",
    "                        #print('ok',cnt)\n",
    "    return cnt"
   ]
  },
  {
   "cell_type": "code",
   "execution_count": 60,
   "metadata": {
    "collapsed": false
   },
   "outputs": [
    {
     "data": {
      "text/plain": [
       "3"
      ]
     },
     "execution_count": 60,
     "metadata": {},
     "output_type": "execute_result"
    }
   ],
   "source": [
    "answer([1, 2, 3, 4, 5, 6])"
   ]
  },
  {
   "cell_type": "code",
   "execution_count": 68,
   "metadata": {
    "collapsed": false
   },
   "outputs": [
    {
     "data": {
      "text/plain": [
       "[0, 0, 0, 0, 0, 0, 0, 0, 0, 0]"
      ]
     },
     "execution_count": 68,
     "metadata": {},
     "output_type": "execute_result"
    }
   ],
   "source": [
    "def answer(l):\n",
    "\tcnt=0\n",
    "\tif len(l)<2000:\n",
    "\t\tfor i in xrange(len(l)-1,-1,-1):\n",
    "\t\t\tfor j in xrange(i-1,-1,-1):\n",
    "\t\t\t\tif l[i]%l[j]==0:\n",
    "\t\t\t\t\tfor k in xrange(j-1,-1,-1):\n",
    "\t\t\t\t\t\tif l[j]%l[k]==0:\n",
    "                            cnt+=1\n",
    "\treturn cnt"
   ]
  },
  {
   "cell_type": "code",
   "execution_count": 79,
   "metadata": {
    "collapsed": false
   },
   "outputs": [],
   "source": [
    "def ans(l):\n",
    "    divs = [0] * len(l)\n",
    "\n",
    "    for i in range(len(l)):\n",
    "        for j in range(i + 1, len(l)):\n",
    "            if l[j] % l[i] == 0:\n",
    "                divs[j] += 1\n",
    "\n",
    "    S = [x**2 for x in range(10)]\n",
    "    M = [divs[j] += 1 for i in range(len(l)) for j in range(i + 1, len(l)) if l[j] % l[i] == 0]\n",
    "\n",
    "    count = 0\n",
    "    for i in range(len(l) - 1, 1, -1):\n",
    "        for j in range(i - 1, 0, -1):\n",
    "            if l[i] % l[j] == 0:\n",
    "                count += divs[j]\n",
    "\n",
    "    return count"
   ]
  },
  {
   "cell_type": "code",
   "execution_count": 5,
   "metadata": {
    "collapsed": false
   },
   "outputs": [],
   "source": [
    "def answer(l):\n",
    "    divs = [0] * len(l)\n",
    "    \n",
    "    def incr(m):\n",
    "        divs[m] += 1\n",
    "        \n",
    "    [incr(j) for i in range(len(l)) for j in range(i + 1, len(l)) if l[j] % l[i] == 0]\n",
    "\n",
    "    count=[0]\n",
    "\n",
    "    def summ(m):\n",
    "        count[0] += divs[m]\n",
    "        \n",
    "    [summ(j) for i in range(len(l) - 1, 1, -1) for j in range(i - 1, 0, -1) if l[i] % l[j] == 0]\n",
    "    \n",
    "    return count[0]"
   ]
  },
  {
   "cell_type": "code",
   "execution_count": 8,
   "metadata": {
    "collapsed": false
   },
   "outputs": [
    {
     "data": {
      "text/plain": [
       "[4]"
      ]
     },
     "execution_count": 8,
     "metadata": {},
     "output_type": "execute_result"
    }
   ],
   "source": [
    "#answer([1, 2, 3, 4, 5, 6])\n",
    "#answer([1, 2, 3, 4, 5, 6, 10])\n",
    "answer([1, 1, 1, 1])"
   ]
  },
  {
   "cell_type": "code",
   "execution_count": 12,
   "metadata": {
    "collapsed": false
   },
   "outputs": [
    {
     "data": {
      "text/plain": [
       "[0, 0, 0, 0, 0, 0]"
      ]
     },
     "execution_count": 12,
     "metadata": {},
     "output_type": "execute_result"
    }
   ],
   "source": [
    "[0 for i in range(len([1, 2, 3, 4, 5, 6]))]\n"
   ]
  }
 ],
 "metadata": {
  "kernelspec": {
   "display_name": "Python 3",
   "language": "python",
   "name": "python3"
  },
  "language_info": {
   "codemirror_mode": {
    "name": "ipython",
    "version": 3
   },
   "file_extension": ".py",
   "mimetype": "text/x-python",
   "name": "python",
   "nbconvert_exporter": "python",
   "pygments_lexer": "ipython3",
   "version": "3.6.0"
  }
 },
 "nbformat": 4,
 "nbformat_minor": 2
}
